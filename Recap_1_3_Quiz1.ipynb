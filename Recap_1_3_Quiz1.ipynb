{
  "nbformat": 4,
  "nbformat_minor": 0,
  "metadata": {
    "colab": {
      "name": "สำเนาของ Recap 1-3 Quiz1.ipynb",
      "provenance": [],
      "include_colab_link": true
    },
    "kernelspec": {
      "name": "python3",
      "display_name": "Python 3"
    },
    "language_info": {
      "name": "python"
    }
  },
  "cells": [
    {
      "cell_type": "markdown",
      "metadata": {
        "id": "view-in-github",
        "colab_type": "text"
      },
      "source": [
        "<a href=\"https://colab.research.google.com/github/SAPUII/BasicProg_DataViz65/blob/main/Recap_1_3_Quiz1.ipynb\" target=\"_parent\"><img src=\"https://colab.research.google.com/assets/colab-badge.svg\" alt=\"Open In Colab\"/></a>"
      ]
    },
    {
      "cell_type": "markdown",
      "source": [
        "Quiz 1 \n",
        "\n",
        "คำนวณเวลาเป็นความต่างของเวลาเป็นวินาทีของช่วงเวลาต่อไปนี้โดยใช้คำสั่ง split() ช่วย และ print ออกมาให้สวยงาม\n",
        "\n",
        "* 09:11:50 - 12:30:15\n",
        "* 13:41:07 - 20:00:18\n",
        "* 21:30:15 - 00:00:00\n",
        "* 00:00:00 - 23:59:59\n",
        "\n",
        "\n",
        "\n",
        "\n",
        "\n"
      ],
      "metadata": {
        "id": "FKKg2s03yfKC"
      }
    },
    {
      "cell_type": "code",
      "source": [
        "A1 = '09:11:50'\n",
        "sp_A1 = A1.split(':')\n",
        "total_A1= (int(sp_A1[0])*60*60)+(int(sp_A1[1])*60)+int(sp_A1[2])\n",
        "A2 = '12:30:15'\n",
        "sp_A2 = A2.split(':')\n",
        "total_A2= (int(sp_A2[0])*60*60)+(int(sp_A2[1])*60)+int(sp_A2[2])\n",
        "print(f'ความต่างของเวลา {A1} และ {A2} เป็นวินาที เท่ากับ {total_A2-total_A1} วินาที')"
      ],
      "metadata": {
        "colab": {
          "base_uri": "https://localhost:8080/"
        },
        "id": "JtECVkw_G2ob",
        "outputId": "1582165b-927b-4778-f1cb-39187e71bfbd"
      },
      "execution_count": 10,
      "outputs": [
        {
          "output_type": "stream",
          "name": "stdout",
          "text": [
            "ความต่างของเวลา 09:11:50 และ 12:30:15 เป็นวินาที เท่ากับ 11905 วินาที\n"
          ]
        }
      ]
    },
    {
      "cell_type": "code",
      "source": [
        "B1 = '13:41:07'\n",
        "sp_B1 = B1.split(':')\n",
        "total_B1= (int(sp_B1[0])*60*60)+(int(sp_B1[1])*60)+int(sp_B1[2])\n",
        "B2 = '20:00:18'\n",
        "sp_B2 = B2.split(':')\n",
        "total_B2= (int(sp_B2[0])*60*60)+(int(sp_B2[1])*60)+int(sp_B2[2])\n",
        "print(f'ความต่างของเวลา {B1} และ {B2} เป็นวินาที เท่ากับ {total_B2-total_B1} วินาที')"
      ],
      "metadata": {
        "colab": {
          "base_uri": "https://localhost:8080/"
        },
        "id": "d-tPGbarG9x7",
        "outputId": "31093faa-d23b-4efe-fe55-ad184ab12f92"
      },
      "execution_count": 11,
      "outputs": [
        {
          "output_type": "stream",
          "name": "stdout",
          "text": [
            "ความต่างของเวลา 13:41:07 และ 20:00:18 เป็นวินาที เท่ากับ 22751 วินาที\n"
          ]
        }
      ]
    },
    {
      "cell_type": "code",
      "source": [
        "C1 = '21:30:15'\n",
        "sp_C1 = C1.split(':')\n",
        "total_C1= (int(sp_C1[0])*60*60)+(int(sp_C1[1])*60)+int(sp_C1[2])\n",
        "C2 = '24:00:00'\n",
        "sp_C2 = C2.split(':')\n",
        "total_C2= (int(sp_C2[0])*60*60)+(int(sp_C2[1])*60)+int(sp_C2[2])\n",
        "print(f'ความต่างของเวลา {C1} และ {C2} เป็นวินาที เท่ากับ {total_C2-total_C1} วินาที')"
      ],
      "metadata": {
        "colab": {
          "base_uri": "https://localhost:8080/"
        },
        "id": "YueRm5IWHCEE",
        "outputId": "8ed5d463-ce6a-4d94-e4d8-a917b09b4e15"
      },
      "execution_count": 12,
      "outputs": [
        {
          "output_type": "stream",
          "name": "stdout",
          "text": [
            "ความต่างของเวลา 21:30:15 และ 24:00:00 เป็นวินาที เท่ากับ 8985 วินาที\n"
          ]
        }
      ]
    },
    {
      "cell_type": "code",
      "source": [
        "D1 = '00:00:00'\n",
        "sp_D1 = D1.split(':')\n",
        "total_D1= (int(sp_D1[0])*60*60)+(int(sp_D1[1])*60)+int(sp_D1[2])\n",
        "D2 = '23:59:59'\n",
        "sp_D2 = D2.split(':')\n",
        "total_D2= (int(sp_D2[0])*60*60)+(int(sp_D2[1])*60)+int(sp_D2[2])\n",
        "print(f'ความต่างของเวลา {D1} และ {D2} เป็นวินาที เท่ากับ {total_D2-total_D1} วินาที')"
      ],
      "metadata": {
        "colab": {
          "base_uri": "https://localhost:8080/"
        },
        "id": "ATqeLEzQHGSn",
        "outputId": "8057cc7e-ae68-461d-9e3b-d3b637411527"
      },
      "execution_count": 13,
      "outputs": [
        {
          "output_type": "stream",
          "name": "stdout",
          "text": [
            "ความต่างของเวลา 00:00:00 และ 23:59:59 เป็นวินาที เท่ากับ 86399 วินาที\n"
          ]
        }
      ]
    }
  ]
}