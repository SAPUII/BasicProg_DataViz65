{
  "nbformat": 4,
  "nbformat_minor": 0,
  "metadata": {
    "colab": {
      "name": "Recap 4-5.ipynb",
      "provenance": [],
      "include_colab_link": true
    },
    "kernelspec": {
      "name": "python3",
      "display_name": "Python 3"
    },
    "language_info": {
      "name": "python"
    }
  },
  "cells": [
    {
      "cell_type": "markdown",
      "metadata": {
        "id": "view-in-github",
        "colab_type": "text"
      },
      "source": [
        "<a href=\"https://colab.research.google.com/github/SAPUII/BasicProg_DataViz65/blob/main/Recap_4_5.ipynb\" target=\"_parent\"><img src=\"https://colab.research.google.com/assets/colab-badge.svg\" alt=\"Open In Colab\"/></a>"
      ]
    },
    {
      "cell_type": "markdown",
      "source": [
        "HW1 \n",
        "\n",
        "เขียน function \n",
        "แสดงความต่างของเวลา (Quiz1)\n",
        "โดย input อยู่ในรูปแบบ ```'09:11:50 - 12:30:15'```\n",
        "\n",
        "และทดลองรัน\n",
        "\n",
        "* '09:11:50 - 12:30:15'\n",
        "* '13:41:07 - 20:00:18'\n",
        "* '00:00:00 - 23:59:59'"
      ],
      "metadata": {
        "id": "3yUVmRymTay0"
      }
    },
    {
      "cell_type": "code",
      "source": [
        "def time_sec(T1,T2):\n",
        "  sp_T1 = T1.split(':')\n",
        "  sp_T2 = T2.split(':')\n",
        "  a = (int(sp_T1[0])*60*60)+(int(sp_T1[1])*60)+int(sp_T1[2])\n",
        "  b = (int(sp_T2[0])*60*60)+(int(sp_T2[1])*60)+int(sp_T2[2])\n",
        "  y = b-a\n",
        "  return y\n",
        "\n",
        "print('done!')"
      ],
      "metadata": {
        "id": "S36Kbh1NR8Rx",
        "colab": {
          "base_uri": "https://localhost:8080/"
        },
        "outputId": "143f03e9-817a-40d2-abfd-131d969d8134"
      },
      "execution_count": 1,
      "outputs": [
        {
          "output_type": "stream",
          "name": "stdout",
          "text": [
            "done!\n"
          ]
        }
      ]
    },
    {
      "cell_type": "code",
      "source": [
        "A1 = time_sec('09:11:50','12:30:15')"
      ],
      "metadata": {
        "id": "mmkR9jApl1eF"
      },
      "execution_count": 2,
      "outputs": []
    },
    {
      "cell_type": "code",
      "source": [
        "print(f'ความต่างของเวลา 09:11:50 และ 12:30:15 เป็นวินาที เท่ากับ {A1} วินาที')"
      ],
      "metadata": {
        "colab": {
          "base_uri": "https://localhost:8080/"
        },
        "id": "b_sAOgUWl3fO",
        "outputId": "8ccdfd66-c03c-4ee1-b6fd-818b5308d63b"
      },
      "execution_count": 3,
      "outputs": [
        {
          "output_type": "stream",
          "name": "stdout",
          "text": [
            "ความต่างของเวลา 09:11:50 และ 12:30:15 เป็นวินาที เท่ากับ 11905 วินาที\n"
          ]
        }
      ]
    },
    {
      "cell_type": "code",
      "source": [
        "A2 = time_sec('13:41:07','20:00:18')"
      ],
      "metadata": {
        "id": "mV8B5BRTmPiP"
      },
      "execution_count": 4,
      "outputs": []
    },
    {
      "cell_type": "code",
      "source": [
        "print(f'ความต่างของเวลา 13:41:07 และ 20:00:18 เป็นวินาที เท่ากับ {A2} วินาที')"
      ],
      "metadata": {
        "colab": {
          "base_uri": "https://localhost:8080/"
        },
        "id": "3PYG5LqymVdP",
        "outputId": "c877e6ea-1a9a-415f-ee9c-0e86a69474da"
      },
      "execution_count": 5,
      "outputs": [
        {
          "output_type": "stream",
          "name": "stdout",
          "text": [
            "ความต่างของเวลา 13:41:07 และ 20:00:18 เป็นวินาที เท่ากับ 22751 วินาที\n"
          ]
        }
      ]
    },
    {
      "cell_type": "code",
      "source": [
        "A3 = time_sec('00:00:00','23:59:59')"
      ],
      "metadata": {
        "id": "1v8sKVx1mZ-k"
      },
      "execution_count": 7,
      "outputs": []
    },
    {
      "cell_type": "code",
      "source": [
        "print(f'ความต่างของเวลา 00:00:00 และ 23:59:59 เป็นวินาที เท่ากับ {A3} วินาที')"
      ],
      "metadata": {
        "colab": {
          "base_uri": "https://localhost:8080/"
        },
        "id": "VjheJrSkmgMD",
        "outputId": "3eb31e9b-7dc0-4191-d270-8b091c0f1982"
      },
      "execution_count": 8,
      "outputs": [
        {
          "output_type": "stream",
          "name": "stdout",
          "text": [
            "ความต่างของเวลา 00:00:00 และ 23:59:59 เป็นวินาที เท่ากับ 86399 วินาที\n"
          ]
        }
      ]
    }
  ]
}